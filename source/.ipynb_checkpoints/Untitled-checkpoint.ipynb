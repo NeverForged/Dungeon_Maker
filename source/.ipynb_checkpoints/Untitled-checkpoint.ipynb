{
 "cells": [
  {
   "cell_type": "markdown",
   "metadata": {},
   "source": [
    "# Proceedural Dungeon Maker "
   ]
  },
  {
   "cell_type": "markdown",
   "metadata": {},
   "source": [
    "Based loosley off of [this article](http://www.roguebasin.com/index.php?title=Grid_Based_Dungeon_Generator) and  [Donjon](https://donjon.bin.sh/code/dungeon/).  My goal is to make a similar thing, but with better layout and hallway planning... for making above-ground maps in other programs.  Ideally you select an outline, either word-based like [Donjon](https://donjon.bin.sh/fantasy/dungeon/index.cgi) or from some sort of file system, then you select a few things and let the maker go house."
   ]
  },
  {
   "cell_type": "markdown",
   "metadata": {},
   "source": [
    "### Step 1: the Grid"
   ]
  },
  {
   "cell_type": "markdown",
   "metadata": {},
   "source": [
    "According to [this site](http://www.roguebasin.com/index.php?title=Grid_Based_Dungeon_Generator):\n",
    "> The first step in the process (after creating an array to hold the data values) is to create a grid that will be used to create the rooms of the dungeon. The grid is composed of logical units called cells. The cells define the maximum extent of a room, as well as its position on the map. Since the example array is quite small, the cells will be defined with a size of 5.\n",
    "\n",
    "I will use groups of 50 pixels to define a cell.  If there is a constraint on size (or a picture to insert), I will do so here.  For now, however, I will pick an 800 by 800 pixel space to make my life easier.\n",
    "\n",
    "Grid Components:\n",
    "* cell_size_5ft_squares\n",
    "* cell_size - size of cell in pixels\n",
    "* x - x size (in pixels)\n",
    "* y - y size (in pixels)"
   ]
  },
  {
   "cell_type": "code",
   "execution_count": 1,
   "metadata": {},
   "outputs": [
    {
     "name": "stdout",
     "output_type": "stream",
     "text": [
      "25\n"
     ]
    }
   ],
   "source": [
    "import numpy as np\n",
    "\n",
    "# overall space\n",
    "x = 300\n",
    "y = 300\n",
    "\n",
    "# 1 pixel = 1 ft\n",
    "cell_size_5ft_squares = 10\n",
    "cell_size = 5 * cell_size_5ft_squares\n",
    "np.zeros((x+20, y+20))\n",
    "\n",
    "# make a dictionary of valid cells... this saves on computational time later\n",
    "cells_dict = {}\n",
    "for n, i in enumerate(range(10, x + 10 - cell_size, cell_size)):\n",
    "    for m, j in enumerate(range(10, y + 10 - cell_size, cell_size)):\n",
    "        cells_dict[(n, m)] = [(i, j), (i+cell_size, j+cell_size)]\n",
    "\n",
    "# make a numpy array of all our pixels...\n",
    "pixel_array = np.zeros((x+20,y+20), dtype='float')\n",
    "print(len(cells_dict))\n"
   ]
  },
  {
   "cell_type": "markdown",
   "metadata": {
    "collapsed": true
   },
   "source": [
    "Now to place rooms...\n",
    "\n",
    "Room variables:\n",
    "* number_of_rooms - how many rooms to place.\n",
    "* min_room_size - min 5ft squares to make a room\n",
    "* grid - True to show a grid\n",
    "* room_dict - key = [(xcell, ycell)], [x_size, y_size, (starting_coords)]"
   ]
  },
  {
   "cell_type": "code",
   "execution_count": 2,
   "metadata": {},
   "outputs": [
    {
     "name": "stdout",
     "output_type": "stream",
     "text": [
      "{(1, 2): [80, 140], (3, 2): [192, 142], (1, 3): [90, 200], (3, 1): [180, 80], (2, 1): [137, 95], (2, 4): [140, 240], (2, 0): [145, 37], (0, 0): [35, 37], (4, 3): [237, 190], (0, 4): [42, 237], (4, 1): [235, 92], (1, 1): [90, 82], (4, 0): [242, 40]}\n"
     ]
    }
   ],
   "source": [
    "import random as rnd\n",
    "\n",
    "lst = list(cells_dict.keys())\n",
    "\n",
    "number_of_rooms = rnd.randint(1,int((len(lst)-1)))\n",
    "min_room_size = 4\n",
    "grid = True\n",
    "room_dict = {}\n",
    "\n",
    "for i in range(number_of_rooms):\n",
    "    j = rnd.randint(0, len(lst) - 1)\n",
    "    try:\n",
    "        room_dict[lst[j]]\n",
    "    except:\n",
    "        size_x = rnd.randint(min_room_size, cell_size_5ft_squares - 2)\n",
    "        size_y = rnd.randint(min_room_size, cell_size_5ft_squares - 2)\n",
    "        x_co, y_co = cells_dict[lst[j]][0]\n",
    "        x_pos = x_co + 5*(2 + rnd.randint(0, cell_size_5ft_squares - 2 - size_x))\n",
    "        y_pos = y_co + 5*(2 + rnd.randint(0, cell_size_5ft_squares - 2 - size_y))\n",
    "        # draw it\n",
    "        room_dict[lst[j]] = [x_pos + int(size_x*5/2.0), y_pos + int(size_y*5/2.0)]\n",
    "        for xd in range(x_pos, x_pos + size_x*5):\n",
    "            for yd in range(y_pos, y_pos + size_y*5):\n",
    "                pixel_array[xd, yd] = 1.0\n",
    "                if grid and ((xd % 5 == 0) or (yd % 5 ==0)):\n",
    "                    pixel_array[xd, yd] = 0.75\n",
    "print(room_dict)"
   ]
  },
  {
   "cell_type": "markdown",
   "metadata": {},
   "source": [
    "Add halls...\n",
    "* hall_width - 1 or 2\n",
    "* connectivity - percent chane the room connects to more than one other room\n",
    "* twist - max number of turns from a room to another room"
   ]
  },
  {
   "cell_type": "code",
   "execution_count": 4,
   "metadata": {},
   "outputs": [
    {
     "ename": "IndentationError",
     "evalue": "expected an indented block (<ipython-input-4-6480f242ef6d>, line 25)",
     "output_type": "error",
     "traceback": [
      "\u001b[1;36m  File \u001b[1;32m\"<ipython-input-4-6480f242ef6d>\"\u001b[1;36m, line \u001b[1;32m25\u001b[0m\n\u001b[1;33m    destination = room_dict[finish]\u001b[0m\n\u001b[1;37m              ^\u001b[0m\n\u001b[1;31mIndentationError\u001b[0m\u001b[1;31m:\u001b[0m expected an indented block\n"
     ]
    }
   ],
   "source": [
    "from math import sqrt\n",
    "\n",
    "hall_width = 1\n",
    "twist_prob = 0.5\n",
    "\n",
    "# figure out how lose the rooms are to each other... using middle coordinate\n",
    "dist_dict = {}\n",
    "for key in room_dict:\n",
    "    dist_dict[key] = [(-1,-1), (x*y)**2]\n",
    "    for key2 in room_dict:\n",
    "        if key2 != key and ((key2 not in dist_dict.keys()) or (dist_dict[key][0] == (-1, -1))):\n",
    "            dist = sqrt((room_dict[key][0] - room_dict[key2][0])**2 +\n",
    "                        (room_dict[key][1] - room_dict[key2][1])**2)\n",
    "            if dist < dist_dict[key][1]:\n",
    "                dist_dict[key][0] = key2\n",
    "                dist_dict[key][1] = dist\n",
    "# now we have who goes where...\n",
    "for start in dist_dict:\n",
    "    finish = dist_dict[start][0]\n",
    "    location = room_dict[start]\n",
    "    # get it in the middle of a square \n",
    "    while location[0] % 5*hall_width != 0:\n",
    "        location[0] = location[0] + 1\n",
    "    while location[1] % 5*hall_width != 0:\n",
    "        destination = room_dict[finish]\n",
    "    # get it in the middle of a square\n",
    "    while destination[0] % 5*hall_width != 0:\n",
    "        destination[0] = destination[0] - 1\n",
    "    while destination[1] % 5*hall_width != 0:\n",
    "        destination[1] = destination[1] - 1\n",
    "    # now we have our locations...\n",
    "    # direction to start should be easiest to get there...\n",
    "    if abs(location[0] - destination[0]) < abs(location[1] - destination[1]):\n",
    "        direction = 0\n",
    "        other = 1\n",
    "    else:\n",
    "        direction = 1\n",
    "        other = 0\n",
    "    step_size = 5*hall_width\n",
    "    dist = sqrt((location[0] - destination[0])**2 +\n",
    "                (location[1] - destination[1])**2)\n",
    "    while dist < 5*hall_width:\n",
    "        # take a step\n",
    "        if location[direction] - destination[direction] > 0\n",
    "            direction_sign = 1\n",
    "        else:\n",
    "            direction_sign = -1\n",
    "        # draw a a hallway-sized cube... \n",
    "        for loc_step in range(step_size):\n",
    "            location[direction] = location[direction] + direction_sign\n",
    "            for step in range(step_size):\n",
    "                d = [0, 0]\n",
    "                d[direction] = location[direction]\n",
    "                d[other] = d[other] - step\n",
    "                pixel_array[d[0], d[1]] = 1.0\n",
    "                if grid and ((d[0] % 5 == 0) or (d[1] % 5 ==0)):\n",
    "                    pixel_array[d[0], d[1]] = 0.75\n",
    "        # check for a twist...\n",
    "        if float(rnd.randint(1,100)/100.0) < twist_prob:\n",
    "            direction, other = other, direction\n"
   ]
  },
  {
   "cell_type": "code",
   "execution_count": null,
   "metadata": {},
   "outputs": [],
   "source": [
    "%matplotlib inline\n",
    "\n",
    "import matplotlib\n",
    "import matplotlib.pyplot as plt\n",
    "\n",
    "plt.imshow(pixel_array, cmap=\"gist_gray\")\n",
    "plt.show()"
   ]
  },
  {
   "cell_type": "code",
   "execution_count": null,
   "metadata": {
    "collapsed": true
   },
   "outputs": [],
   "source": []
  }
 ],
 "metadata": {
  "kernelspec": {
   "display_name": "Python 3",
   "language": "python",
   "name": "python3"
  },
  "language_info": {
   "codemirror_mode": {
    "name": "ipython",
    "version": 3
   },
   "file_extension": ".py",
   "mimetype": "text/x-python",
   "name": "python",
   "nbconvert_exporter": "python",
   "pygments_lexer": "ipython3",
   "version": "3.5.2"
  }
 },
 "nbformat": 4,
 "nbformat_minor": 2
}
